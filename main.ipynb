{
  "nbformat": 4,
  "nbformat_minor": 0,
  "metadata": {
    "colab": {
      "provenance": []
    },
    "kernelspec": {
      "name": "python3",
      "display_name": "Python 3"
    },
    "language_info": {
      "name": "python"
    }
  },
  "cells": [
    {
      "cell_type": "code",
      "execution_count": null,
      "metadata": {
        "colab": {
          "base_uri": "https://localhost:8080/"
        },
        "id": "S0c_f4EL8SXm",
        "outputId": "b340aee9-7732-4bad-a497-99ce8f3f8f10"
      },
      "outputs": [
        {
          "output_type": "stream",
          "name": "stdout",
          "text": [
            "Mounted at /content/drive\n"
          ]
        }
      ],
      "source": [
        "import numpy as np\n",
        "import pandas as pd\n",
        "import matplotlib.pyplot as plt\n",
        "\n",
        "from google.colab import drive\n",
        "drive.mount('/content/drive', force_remount=True)"
      ]
    },
    {
      "cell_type": "markdown",
      "source": [
        "TESTING COMBINED CNN AND GIST FEATURES"
      ],
      "metadata": {
        "id": "iK4tuj7fajDi"
      }
    },
    {
      "cell_type": "code",
      "source": [
        "# COMBINING TRAINING 1 AND 2, FILL IN MISSING DATA\n",
        "\n",
        "files = ['/content/drive/MyDrive/fml coursework/assignment data/training1.csv', \n",
        "         '/content/drive/MyDrive/fml coursework/assignment data/training2.csv']\n",
        "\n",
        "df2 = pd.DataFrame()\n",
        "for file in files:\n",
        "    data = pd.read_csv(file)\n",
        "    df2 = pd.concat([df2, data], axis=0)\n",
        "df2.to_csv('merged_files.csv', index=False)\n",
        "\n",
        "concatenated_data=pd.read_csv('merged_files.csv')\n",
        "\n",
        "labels = concatenated_data['label']\n",
        "confidence = concatenated_data['confidence']\n",
        "\n",
        "CNN = concatenated_data.iloc[:, :2048].copy()\n",
        "GIST = concatenated_data.iloc[:, 2048:2304].copy()\n",
        "\n",
        "# calculate mean of CNN and GIST separately\n",
        "CNN_mean = CNN.mean()\n",
        "GIST_mean = GIST.mean()\n",
        "\n",
        "CNN.loc[:, :] = CNN.fillna(CNN_mean)\n",
        "GIST.loc[:, :] = GIST.fillna(GIST_mean)\n",
        "\n",
        "filled_data = pd.concat([CNN, GIST, labels, confidence], axis=1)\n",
        "\n",
        "# save the filled data to a new CSV file\n",
        "filled_data.to_csv('filled_data.csv', index=False)"
      ],
      "metadata": {
        "id": "eVM7J1kf9-EJ"
      },
      "execution_count": null,
      "outputs": []
    },
    {
      "cell_type": "code",
      "source": [
        "#RANDOMISE ORDER OF FEATURES\n",
        "\n",
        "\n",
        "\n",
        "import pandas as pd\n",
        "import numpy as np\n",
        "\n",
        "# read in the data from the files\n",
        "files = ['/content/drive/MyDrive/fml coursework/assignment data/training1.csv', \n",
        "         '/content/drive/MyDrive/fml coursework/assignment data/training2.csv']\n",
        "\n",
        "df2 = pd.DataFrame()\n",
        "for file in files:\n",
        "    data = pd.read_csv(file)\n",
        "    df2 = pd.concat([df2, data], axis=0)\n",
        "\n",
        "# shuffle the data randomly\n",
        "df2_shuffled = df2.sample(frac=1, random_state=42)\n",
        "\n",
        "# extract the relevant columns\n",
        "labels = df2_shuffled['label']\n",
        "confidence = df2_shuffled['confidence']\n",
        "CNN = df2_shuffled.iloc[:, :2048].copy()\n",
        "GIST = df2_shuffled.iloc[:, 2048:2304].copy()\n",
        "\n",
        "# calculate mean of CNN and GIST separately\n",
        "CNN_mean = CNN.mean()\n",
        "GIST_mean = GIST.mean()\n",
        "\n",
        "CNN.loc[:, :] = CNN.fillna(CNN_mean)\n",
        "GIST.loc[:, :] = GIST.fillna(GIST_mean)\n",
        "\n",
        "# concatenate the filled data and save to a new CSV file\n",
        "filled_data2 = pd.concat([CNN, GIST, labels, confidence], axis=1)\n",
        "filled_data2.to_csv('filled_data2.csv', index=False)"
      ],
      "metadata": {
        "id": "GZ7lWO_-ia02"
      },
      "execution_count": null,
      "outputs": []
    },
    {
      "cell_type": "code",
      "source": [
        "#NORMALISE TEST DATA\n",
        "\n",
        "test_data = pd.read_csv('/content/drive/MyDrive/fml coursework/assignment data/test.csv')\n",
        "\n",
        "CNN = test_data.iloc[:, :2048].copy()\n",
        "GIST = test_data.iloc[:, 2048:2304].copy()\n",
        "\n",
        "# calculate mean of CNN and GIST separately\n",
        "CNN_mean = CNN.mean()\n",
        "GIST_mean = GIST.mean()\n",
        "\n",
        "CNN.loc[:, :] = CNN.fillna(CNN_mean)\n",
        "GIST.loc[:, :] = GIST.fillna(GIST_mean)\n",
        "\n",
        "# concatenate the filled data and save to a new CSV file\n",
        "test_data_filled = pd.concat([CNN, GIST], axis=1)\n",
        "\n",
        "test_data_filled.to_csv('test_data_filled.csv', index=False)"
      ],
      "metadata": {
        "id": "qkW4GMr3dnYh"
      },
      "execution_count": null,
      "outputs": []
    },
    {
      "cell_type": "code",
      "source": [
        "#LOGREG COMBINED\n",
        "\n",
        "\n",
        "\n",
        "\n",
        "import pandas as pd\n",
        "import numpy as np\n",
        "from sklearn.model_selection import train_test_split, GridSearchCV\n",
        "from sklearn.preprocessing import StandardScaler\n",
        "from sklearn.linear_model import LogisticRegression\n",
        "from sklearn.ensemble import RandomForestClassifier\n",
        "from sklearn.metrics import accuracy_score\n",
        "from sklearn.decomposition import PCA\n",
        "\n",
        "filled_data2 = pd.read_csv('filled_data2.csv').drop(['confidence'], axis=1)\n",
        "\n",
        "#filled_data2 = filled_data.drop(['confidence'], axis=1)\n",
        "\n",
        "# Separate the features and labels\n",
        "X = filled_data2.iloc[:, :-1]\n",
        "y = filled_data2.iloc[:, -1]\n",
        "\n",
        "# assume 'X' is the feature matrix and 'y' is the target vector\n",
        "# split the data into training and testing sets\n",
        "X_train, X_test, y_train, y_test = train_test_split(X, y, test_size=0.25, random_state=42)\n",
        "\n",
        "# create a StandardScaler object\n",
        "the_scaler = StandardScaler()\n",
        "\n",
        "# fit the scaler on the training data and transform both training and testing data\n",
        "X_train_scaled = the_scaler.fit_transform(X_train)\n",
        "X_test_scaled = the_scaler.transform(X_test)\n",
        "\n",
        "# Apply PCA to reduce dimensionality\n",
        "pca = PCA(n_components=100, random_state=42)\n",
        "X_train_pca = pca.fit_transform(X_train_scaled)\n",
        "X_test_pca = pca.transform(X_test_scaled)\n",
        "\n",
        "# Define the parameter grid for tuning C\n",
        "param_grid = {'C': [0.0001, 0.001, 0.01, 0.1, 1, 10, 100]}\n",
        "\n",
        "# Use GridSearchCV to find the best value of C\n",
        "logreg = LogisticRegression()\n",
        "grid_search = GridSearchCV(logreg, param_grid, cv=5)\n",
        "grid_search.fit(X_train_pca, y_train)\n",
        "best_C = grid_search.best_params_['C']\n",
        "\n",
        "# Fit the logistic regression model to the training data with the best value of C\n",
        "logreg = LogisticRegression(C=best_C)\n",
        "logreg.fit(X_train_pca, y_train)\n",
        "\n",
        "# Make predictions on the testing data\n",
        "y_pred = logreg.predict(X_test_pca)\n",
        "\n",
        "# Calculate the accuracy score of the model\n",
        "comb_logreg_accuracy = accuracy_score(y_test, y_pred)\n",
        "\n",
        "# Print the best value of C and the accuracy score\n",
        "print(\"Best value of C:\", best_C)\n",
        "print(\"Accuracy:\", comb_logreg_accuracy)"
      ],
      "metadata": {
        "id": "Sb4NlNdNcwmL",
        "colab": {
          "base_uri": "https://localhost:8080/"
        },
        "outputId": "d19ce427-78c4-4af5-c5b4-e9bbe95f303c"
      },
      "execution_count": null,
      "outputs": [
        {
          "output_type": "stream",
          "name": "stdout",
          "text": [
            "Best value of C: 0.0001\n",
            "Accuracy: 0.7546666666666667\n"
          ]
        }
      ]
    },
    {
      "cell_type": "code",
      "source": [
        "#SVM COMBINED\n",
        "\n",
        "\n",
        "\n",
        "\n",
        "\n",
        "import pandas as pd\n",
        "import numpy as np\n",
        "from sklearn.model_selection import train_test_split, GridSearchCV\n",
        "from sklearn.preprocessing import StandardScaler\n",
        "from sklearn.svm import SVC\n",
        "from sklearn.metrics import accuracy_score\n",
        "from sklearn.decomposition import PCA\n",
        "\n",
        "\n",
        "# Load the data\n",
        "filled_data2 = pd.read_csv('filled_data2.csv').drop(['confidence'], axis=1)\n",
        "\n",
        "X = filled_data2.iloc[:, :-1]\n",
        "y = filled_data2.iloc[:, -1]\n",
        "\n",
        "# Split the data into training and testing sets\n",
        "X_train, X_test, y_train, y_test = train_test_split(X, y, test_size=0.25, random_state=42)\n",
        "\n",
        "# create a StandardScaler object\n",
        "the_scaler = StandardScaler()\n",
        "\n",
        "# fit the scaler on the training data and transform both training and testing data\n",
        "X_train_scaled = the_scaler.fit_transform(X_train)\n",
        "X_test_scaled = the_scaler.transform(X_test)\n",
        "\n",
        "# Apply PCA to reduce dimensionality\n",
        "pca = PCA(n_components=100, random_state=42)\n",
        "X_train_pca = pca.fit_transform(X_train_scaled)\n",
        "X_test_pca = pca.transform(X_test_scaled)\n",
        "\n",
        "# Use the best hyperparameters to create a new SVM object\n",
        "best_svm = SVC(C=0.01, kernel='linear', tol=0.0001)\n",
        "best_svm.fit(X_train_pca, y_train)\n",
        "\n",
        "# Predict on the test set\n",
        "y_pred = best_svm.predict(X_test_pca)\n",
        "\n",
        "# Evaluate the accuracy\n",
        "comb_svm_accuracy = accuracy_score(y_test, y_pred)\n",
        "print(\"Accuracy: \", comb_svm_accuracy)"
      ],
      "metadata": {
        "colab": {
          "base_uri": "https://localhost:8080/"
        },
        "id": "i3uI04Ldfeu_",
        "outputId": "01828ded-7192-4dfe-e3ac-6aa332b17bf8"
      },
      "execution_count": null,
      "outputs": [
        {
          "output_type": "stream",
          "name": "stdout",
          "text": [
            "Accuracy:  0.7546666666666667\n"
          ]
        }
      ]
    },
    {
      "cell_type": "code",
      "source": [
        "#combined RND FOREST\n",
        "\n",
        "\n",
        "\n",
        "\n",
        "\n",
        "import pandas as pd\n",
        "import numpy as np\n",
        "from sklearn.model_selection import train_test_split, GridSearchCV\n",
        "from sklearn.preprocessing import StandardScaler\n",
        "from sklearn.ensemble import RandomForestClassifier\n",
        "from sklearn.metrics import accuracy_score\n",
        "from sklearn.decomposition import PCA\n",
        "\n",
        "\n",
        "# Load the data\n",
        "filled_data2 = pd.read_csv('filled_data2.csv').drop(['confidence'], axis=1)\n",
        "\n",
        "X = filled_data2.iloc[:, :-1]\n",
        "y = filled_data2.iloc[:, -1]\n",
        "\n",
        "# Split the data into training and testing sets\n",
        "X_train, X_test, y_train, y_test = train_test_split(X, y, test_size=0.25, random_state=42)\n",
        "\n",
        "# create a StandardScaler object\n",
        "the_scaler = StandardScaler()\n",
        "\n",
        "# fit the scaler on the training data and transform both training and testing data\n",
        "X_train_scaled = the_scaler.fit_transform(X_train)\n",
        "X_test_scaled = the_scaler.transform(X_test)\n",
        "\n",
        "# Apply PCA to reduce dimensionality\n",
        "#pca = PCA(n_components=150, random_state=42)\n",
        "#X_train_pca = pca.fit_transform(X_train_scaled)\n",
        "#X_test_pca = pca.transform(X_test_scaled)\n",
        "\n",
        "# Define the parameter grid for tuning n_estimators\n",
        "#param_grid = {'n_estimators': [100, 150, 200, 250], 'max_depth': [15, 20, 25, 30]}\n",
        "\n",
        "# Use GridSearchCV to find the best value of n_estimators for Random Forest\n",
        "#rf = RandomForestClassifier()\n",
        "#grid_search = GridSearchCV(rf, param_grid, cv=5)\n",
        "#grid_search.fit(X_train_scaled, y_train)\n",
        "#best_n_estimators = grid_search.best_params_['n_estimators']\n",
        "#best_max_depth = grid_search.best_params_['max_depth']\n",
        "\n",
        "# Fit the Random Forest model to the first 500 rows training data with the best value of n_estimators\n",
        "rf = RandomForestClassifier(n_estimators=150, random_state=42, max_depth=25)\n",
        "\n",
        "# Fit the classifier to the training data\n",
        "rf.fit(X_train_scaled, y_train)\n",
        "\n",
        "# Make predictions on the test data\n",
        "y_pred = rf.predict(X_test_scaled)\n",
        "\n",
        "# Calculate the accuracy score of the classifier\n",
        "comb_rnd_accuracy = accuracy_score(y_test, y_pred)\n",
        "print(\"Accuracy score:\", comb_rnd_accuracy)\n",
        "\n",
        "#print(\"Best n_estimators\", best_n_estimators)\n",
        "\n",
        "#print(\"best max_depth\", best_max_depth)"
      ],
      "metadata": {
        "colab": {
          "base_uri": "https://localhost:8080/"
        },
        "id": "edHHD5S1lX2r",
        "outputId": "ac01dfd9-ead4-4d92-bcf5-ba3aa1b8f79e"
      },
      "execution_count": null,
      "outputs": [
        {
          "output_type": "stream",
          "name": "stdout",
          "text": [
            "Accuracy score: 0.768\n"
          ]
        }
      ]
    },
    {
      "cell_type": "code",
      "source": [
        "#RND FOREST WITH CONFIDENCE TEST\n",
        "\n",
        "\n",
        "\n",
        "\n",
        "import pandas as pd\n",
        "import numpy as np\n",
        "from sklearn.model_selection import train_test_split, GridSearchCV\n",
        "from sklearn.preprocessing import StandardScaler\n",
        "from sklearn.ensemble import RandomForestClassifier\n",
        "from sklearn.metrics import accuracy_score\n",
        "\n",
        "# Load the data\n",
        "filled_data2 = pd.read_csv('filled_data2.csv')\n",
        "\n",
        "X = filled_data2.drop(['confidence', 'label'], axis=1)\n",
        "y = filled_data2['label']\n",
        "confidences = filled_data2['confidence']\n",
        "\n",
        "# Split the data into training and testing sets\n",
        "X_train, X_test, y_train, y_test, conf_train, conf_test = train_test_split(X, y, confidences, test_size=0.25, random_state=42)\n",
        "\n",
        "# Create a StandardScaler object\n",
        "scaler = StandardScaler()\n",
        "\n",
        "# Fit the scaler on the training data and transform both training and testing data\n",
        "X_train_scaled = scaler.fit_transform(X_train)\n",
        "X_test_scaled = scaler.transform(X_test)\n",
        "\n",
        "# Define the parameter grid for tuning n_estimators\n",
        "#param_grid = {'n_estimators': [100, 150, 200, 250], 'max_depth': [15, 20, 25, 30]}\n",
        "\n",
        "# Use GridSearchCV to find the best value of n_estimators for Random Forest\n",
        "#rf = RandomForestClassifier()\n",
        "#grid_search = GridSearchCV(rf, param_grid, cv=5)\n",
        "#grid_search.fit(X_train_scaled, y_train, sample_weight=conf_train)\n",
        "#best_n_estimators = grid_search.best_params_['n_estimators']\n",
        "#best_max_depth = grid_search.best_params_['max_depth']\n",
        "\n",
        "# Fit the Random Forest model to the training data with the best value of n_estimators\n",
        "rf = RandomForestClassifier(n_estimators=150, random_state=42, max_depth=25)\n",
        "rf.fit(X_train_scaled, y_train, sample_weight=conf_train)\n",
        "\n",
        "# Make predictions on the test data\n",
        "y_pred = rf.predict(X_test_scaled)\n",
        "\n",
        "# Calculate the accuracy score of the classifier\n",
        "accuracy = accuracy_score(y_test, y_pred)\n",
        "print(\"Accuracy score:\", accuracy)\n",
        "\n",
        "#print(\"Best n_estimators:\", best_n_estimators)\n",
        "#print(\"Best max_depth:\", best_max_depth)\n"
      ],
      "metadata": {
        "colab": {
          "base_uri": "https://localhost:8080/"
        },
        "id": "i-1BsX_tWFFZ",
        "outputId": "e8b3b346-6300-493a-909b-01195e530ddb"
      },
      "execution_count": null,
      "outputs": [
        {
          "output_type": "stream",
          "name": "stdout",
          "text": [
            "Accuracy score: 0.7546666666666667\n"
          ]
        }
      ]
    },
    {
      "cell_type": "code",
      "source": [
        "#COMBINED MLP\n",
        "\n",
        "\n",
        "\n",
        "\n",
        "from sklearn.neural_network import MLPClassifier\n",
        "from sklearn.model_selection import GridSearchCV\n",
        "\n",
        "# Load the data\n",
        "filled_data2 = pd.read_csv('filled_data2.csv').drop(['confidence'], axis=1)\n",
        "\n",
        "X = filled_data2.iloc[:, :-1]\n",
        "y = filled_data2.iloc[:, -1]\n",
        "\n",
        "# Split the data into training and testing sets\n",
        "X_train, X_test, y_train, y_test = train_test_split(X, y, test_size=0.25, random_state=42)\n",
        "\n",
        "# create a StandardScaler object\n",
        "the_scaler = StandardScaler()\n",
        "\n",
        "# fit the scaler on the training data and transform both training and testing data\n",
        "X_train_scaled = the_scaler.fit_transform(X_train)\n",
        "X_test_scaled = the_scaler.transform(X_test)\n",
        "\n",
        "# Apply PCA to reduce dimensionality\n",
        "pca = PCA(n_components=150, random_state=42)\n",
        "X_train_pca = pca.fit_transform(X_train_scaled)\n",
        "X_test_pca = pca.transform(X_test_scaled)\n",
        "\n",
        "\n",
        "# Define the parameter grid for grid search\n",
        "# param_grid = {\n",
        "#     'hidden_layer_sizes': [(50,), (100,), (50, 50)],\n",
        "#     'activation': ['relu', 'tanh'],\n",
        "#     'solver': ['adam', 'sgd'],\n",
        "#     'learning_rate': ['constant', 'adaptive']\n",
        "# }\n",
        "\n",
        "# Create an MLP classifier\n",
        "# mlp = MLPClassifier(random_state=42)\n",
        "\n",
        "# Perform grid search to find the best parameters\n",
        "# grid_search = GridSearchCV(mlp, param_grid, cv=4, scoring='accuracy', n_jobs=-1)\n",
        "# grid_search.fit(X_train_pca, y_train)\n",
        "\n",
        "# Get the best parameters and best score\n",
        "# best_params = grid_search.best_params_\n",
        "# best_score = grid_search.best_score_\n",
        "\n",
        "# Create an MLP classifier with the best parameters\n",
        "mlp_best = MLPClassifier(random_state=42, alpha=0.0001, activation='tanh', solver='sgd', learning_rate='adaptive', hidden_layer_sizes=(100, ))\n",
        "\n",
        "# Fit the classifier on the training data\n",
        "mlp_best.fit(X_train_pca, y_train)\n",
        "\n",
        "# Predict on the testing data\n",
        "y_pred = mlp_best.predict(X_test_pca)\n",
        "\n",
        "# Evaluate the classifier\n",
        "comb_mlp_accuracy = accuracy_score(y_test, y_pred)\n",
        "\n",
        "print(\"Accuracy score:\", comb_mlp_accuracy)\n",
        "\n",
        "# print('best params', best_params)"
      ],
      "metadata": {
        "colab": {
          "base_uri": "https://localhost:8080/"
        },
        "id": "chhX_hm9qVZr",
        "outputId": "8afe1ccb-e190-455e-e1a7-866b066a87d4"
      },
      "execution_count": null,
      "outputs": [
        {
          "output_type": "stream",
          "name": "stdout",
          "text": [
            "Accuracy score: 0.7346666666666667\n"
          ]
        },
        {
          "output_type": "stream",
          "name": "stderr",
          "text": [
            "/usr/local/lib/python3.10/dist-packages/sklearn/neural_network/_multilayer_perceptron.py:686: ConvergenceWarning: Stochastic Optimizer: Maximum iterations (200) reached and the optimization hasn't converged yet.\n",
            "  warnings.warn(\n"
          ]
        }
      ]
    },
    {
      "cell_type": "code",
      "source": [
        "#combined NB\n",
        "\n",
        "\n",
        "from sklearn.naive_bayes import GaussianNB\n",
        "from sklearn.model_selection import GridSearchCV\n",
        "\n",
        "# Load the data\n",
        "filled_data2 = pd.read_csv('filled_data2.csv').drop(['confidence'], axis=1)\n",
        "\n",
        "X = filled_data2.iloc[:, :-1]\n",
        "y = filled_data2.iloc[:, -1]\n",
        "\n",
        "# Split the data into training and testing sets\n",
        "X_train, X_test, y_train, y_test = train_test_split(X, y, test_size=0.25, random_state=42)\n",
        "\n",
        "# create a StandardScaler object\n",
        "the_scaler = StandardScaler()\n",
        "\n",
        "# fit the scaler on the training data and transform both training and testing data\n",
        "X_train_scaled = the_scaler.fit_transform(X_train)\n",
        "X_test_scaled = the_scaler.transform(X_test)\n",
        "\n",
        "# Apply PCA to reduce dimensionality\n",
        "#pca = PCA(n_components=150, random_state=42)\n",
        "#X_train_pca = pca.fit_transform(X_train_scaled)\n",
        "#X_test_pca = pca.transform(X_test_scaled)\n",
        "\n",
        "# Define the parameter grid for hyperparameter tuning\n",
        "param_grid = {\n",
        "    'var_smoothing': [1e-9, 1e-8, 1e-7]\n",
        "}\n",
        "\n",
        "# Create an instance of the Naive Bayes classifier\n",
        "naive_bayes = GaussianNB()\n",
        "\n",
        "# Perform grid search with cross-validation to find the best hyperparameters\n",
        "grid_search = GridSearchCV(naive_bayes, param_grid, cv=5)\n",
        "grid_search.fit(X_train_scaled, y_train)\n",
        "\n",
        "# Retrieve the best hyperparameters\n",
        "best_params = grid_search.best_params_\n",
        "\n",
        "# Create a new instance of the Naive Bayes classifier with the best parameters\n",
        "naive_bayes_best = GaussianNB(var_smoothing=best_params['var_smoothing'])\n",
        "\n",
        "# Fit the classifier on the training data\n",
        "naive_bayes_best.fit(X_train_scaled, y_train)\n",
        "\n",
        "# Make predictions on the test data\n",
        "y_pred = naive_bayes_best.predict(X_test_scaled)\n",
        "\n",
        "# Evaluate the performance of the classifier\n",
        "comb_nb_accuracy = accuracy_score(y_test, y_pred)\n",
        "\n",
        "print('Best accuracy', comb_nb_accuracy)\n",
        "\n",
        "print('best params', best_params)"
      ],
      "metadata": {
        "colab": {
          "base_uri": "https://localhost:8080/"
        },
        "id": "oY2uH7gpvQJi",
        "outputId": "3fc9aa0d-9425-4b1d-d2e2-eb498883cca2"
      },
      "execution_count": null,
      "outputs": [
        {
          "output_type": "stream",
          "name": "stdout",
          "text": [
            "Best accuracy 0.736\n",
            "best params {'var_smoothing': 1e-09}\n"
          ]
        }
      ]
    },
    {
      "cell_type": "markdown",
      "source": [
        "TESTING CNN FEATURES ALONE\n"
      ],
      "metadata": {
        "id": "IPkoxHRY8_Qm"
      }
    },
    {
      "cell_type": "code",
      "source": [
        "# CNN MLP\n",
        "\n",
        "\n",
        "import pandas as pd\n",
        "from sklearn.model_selection import train_test_split\n",
        "from sklearn.preprocessing import StandardScaler\n",
        "from sklearn.neural_network import MLPClassifier\n",
        "\n",
        "# Load the data\n",
        "filled_data2 = pd.read_csv('filled_data2.csv').drop(['confidence'], axis=1)\n",
        "\n",
        "CNN_data = filled_data2.drop(filled_data2.iloc[:, 2048:2304], axis=1)\n",
        "\n",
        "X = CNN_data.iloc[:, :-1]\n",
        "y = CNN_data.iloc[:, -1]\n",
        "\n",
        "# Split the data into training and testing sets\n",
        "X_train, X_test, y_train, y_test = train_test_split(X, y, test_size=0.25, random_state=42)\n",
        "\n",
        "# Scale the input features\n",
        "scaler = StandardScaler()\n",
        "X_train_scaled = scaler.fit_transform(X_train)\n",
        "X_test_scaled = scaler.transform(X_test)\n",
        "\n",
        "# Apply PCA to reduce dimensionality\n",
        "#pca = PCA(n_components=100, random_state=42)\n",
        "#X_train_pca = pca.fit_transform(X_train_scaled)\n",
        "#X_test_pca = pca.transform(X_test_scaled)\n",
        "\n",
        "# Train an MLP classifier\n",
        "#mlp = MLPClassifier(hidden_layer_sizes=(50,), max_iter=500, alpha=0.0001, solver='sgd', verbose=10, random_state=42, tol=0.0001, activation='relu', learning_rate='constant')\n",
        "#mlp.fit(X_train_pca, y_train)\n",
        "\n",
        "\n",
        "mlp = MLPClassifier(hidden_layer_sizes=(150,), max_iter=500, random_state=42, solver='sgd', activation='relu', alpha=0.001)\n",
        "mlp.fit(X_train_scaled, y_train)\n",
        "\n",
        "y_pred = mlp.predict(X_test_scaled)\n",
        "\n",
        "cnn_mlp_accuracy = accuracy_score(y_test, y_pred)\n",
        "\n",
        "print(f'Testing Accuracy: {cnn_mlp_accuracy}')"
      ],
      "metadata": {
        "colab": {
          "base_uri": "https://localhost:8080/"
        },
        "id": "LHDhq25nhr0Y",
        "outputId": "5545ea22-a98b-4f7f-9c05-76a357abeee3"
      },
      "execution_count": null,
      "outputs": [
        {
          "output_type": "stream",
          "name": "stdout",
          "text": [
            "Testing Accuracy: 0.7026666666666667\n"
          ]
        }
      ]
    },
    {
      "cell_type": "code",
      "source": [
        "#CNN LOGREG\n",
        "\n",
        "\n",
        "\n",
        "\n",
        "\n",
        "\n",
        "\n",
        "import pandas as pd\n",
        "import numpy as np\n",
        "from sklearn.model_selection import train_test_split, GridSearchCV\n",
        "from sklearn.preprocessing import StandardScaler\n",
        "from sklearn.linear_model import LogisticRegression\n",
        "from sklearn.ensemble import RandomForestClassifier\n",
        "from sklearn.metrics import accuracy_score\n",
        "from sklearn.decomposition import PCA\n",
        "\n",
        "\n",
        "# Load the data\n",
        "filled_data2 = pd.read_csv('filled_data2.csv').drop(['confidence'], axis=1)\n",
        "\n",
        "CNN_data = filled_data2.drop(filled_data2.iloc[:, 2048:2304], axis=1)\n",
        "\n",
        "X = CNN_data.iloc[:, :-1]\n",
        "y = CNN_data.iloc[:, -1]\n",
        "\n",
        "# Split the data into training and testing sets\n",
        "X_train, X_test, y_train, y_test = train_test_split(X, y, test_size=0.2, random_state=42)\n",
        "\n",
        "# create a StandardScaler object\n",
        "the_scaler = StandardScaler()\n",
        "\n",
        "# fit the scaler on the training data and transform both training and testing data\n",
        "X_train_scaled = the_scaler.fit_transform(X_train)\n",
        "X_test_scaled = the_scaler.transform(X_test)\n",
        "\n",
        "# Apply PCA to reduce dimensionality\n",
        "pca = PCA(n_components=100, random_state=42)\n",
        "X_train_pca = pca.fit_transform(X_train_scaled)\n",
        "X_test_pca = pca.transform(X_test_scaled)\n",
        "\n",
        "# Define the parameter grid for tuning C\n",
        "param_grid = {'C': [0.0001, 0.001, 0.01, 0.1, 1, 10, 100]}\n",
        "\n",
        "# Use GridSearchCV to find the best value of C\n",
        "logreg = LogisticRegression()\n",
        "grid_search = GridSearchCV(logreg, param_grid, cv=5)\n",
        "grid_search.fit(X_train_pca, y_train)\n",
        "best_C = grid_search.best_params_['C']\n",
        "\n",
        "# Fit the logistic regression model to the training data with the best value of C\n",
        "logreg = LogisticRegression(max_iter=1000, C=best_C, solver='liblinear', penalty='l2')\n",
        "logreg.fit(X_train_pca, y_train)\n",
        "\n",
        "# Make predictions on the testing data\n",
        "y_pred = logreg.predict(X_test_pca)\n",
        "\n",
        "# Calculate the accuracy score of the model\n",
        "cnn_logreg_accuracy = accuracy_score(y_test, y_pred)\n",
        "\n",
        "# Print the best value of C and the accuracy score\n",
        "print(\"Best value of C:\", best_C)\n",
        "print(\"Accuracy:\", cnn_logreg_accuracy)"
      ],
      "metadata": {
        "colab": {
          "base_uri": "https://localhost:8080/"
        },
        "id": "LjtoX_5u2abl",
        "outputId": "51c9b39d-252b-4923-df76-683d1ea9465b"
      },
      "execution_count": null,
      "outputs": [
        {
          "output_type": "stream",
          "name": "stdout",
          "text": [
            "Best value of C: 0.0001\n",
            "Accuracy: 0.7616666666666667\n"
          ]
        }
      ]
    },
    {
      "cell_type": "code",
      "source": [
        "#CNN SVM\n",
        "\n",
        "\n",
        "\n",
        "\n",
        "\n",
        "\n",
        "\n",
        "\n",
        "import pandas as pd\n",
        "import numpy as np\n",
        "from sklearn.model_selection import train_test_split, GridSearchCV\n",
        "from sklearn.preprocessing import StandardScaler\n",
        "from sklearn.svm import SVC\n",
        "from sklearn.metrics import accuracy_score\n",
        "from sklearn.decomposition import PCA\n",
        "\n",
        "\n",
        "# Load the data\n",
        "filled_data2 = pd.read_csv('filled_data2.csv').drop(['confidence'], axis=1)\n",
        "\n",
        "CNN_data = filled_data2.drop(filled_data2.iloc[:, 2048:2304], axis=1)\n",
        "\n",
        "X = CNN_data.iloc[:, :-1]\n",
        "y = CNN_data.iloc[:, -1]\n",
        "\n",
        "# Split the data into training and testing sets\n",
        "X_train, X_test, y_train, y_test = train_test_split(X, y, test_size=0.2, random_state=42)\n",
        "\n",
        "# create a StandardScaler object\n",
        "the_scaler = StandardScaler()\n",
        "\n",
        "# fit the scaler on the training data and transform both training and testing data\n",
        "X_train_scaled = the_scaler.fit_transform(X_train)\n",
        "X_test_scaled = the_scaler.transform(X_test)\n",
        "\n",
        "# Apply PCA to reduce dimensionality\n",
        "pca = PCA(n_components=100, random_state=42)\n",
        "X_train_pca = pca.fit_transform(X_train_scaled)\n",
        "X_test_pca = pca.transform(X_test_scaled)\n",
        "\n",
        "# Use the best hyperparameters to create a new SVM object\n",
        "best_svm = SVC(C=0.01, kernel='linear')\n",
        "best_svm.fit(X_train_pca, y_train)\n",
        "\n",
        "# Predict on the test set\n",
        "y_pred = best_svm.predict(X_test_pca)\n",
        "\n",
        "# Evaluate the accuracy\n",
        "cnn_svm_accuracy = accuracy_score(y_test, y_pred)\n",
        "print(\"Accuracy: \", cnn_svm_accuracy)\n"
      ],
      "metadata": {
        "colab": {
          "base_uri": "https://localhost:8080/"
        },
        "id": "LlC58qff5-h9",
        "outputId": "519a1f9a-bc51-42df-dfe0-b520ce7c4299"
      },
      "execution_count": null,
      "outputs": [
        {
          "output_type": "stream",
          "name": "stdout",
          "text": [
            "Accuracy:  0.7533333333333333\n"
          ]
        }
      ]
    },
    {
      "cell_type": "code",
      "source": [
        "# CNN RANDOM FOREST\n",
        "\n",
        "\n",
        "\n",
        "\n",
        "import pandas as pd\n",
        "import numpy as np\n",
        "from sklearn.model_selection import train_test_split, GridSearchCV\n",
        "from sklearn.preprocessing import StandardScaler\n",
        "from sklearn.ensemble import RandomForestClassifier\n",
        "from sklearn.metrics import accuracy_score\n",
        "from sklearn.decomposition import PCA\n",
        "\n",
        "\n",
        "# Load the data\n",
        "filled_data2 = pd.read_csv('filled_data2.csv').drop(['confidence'], axis=1)\n",
        "\n",
        "CNN_data = filled_data2.drop(filled_data2.iloc[:, 2048:2304], axis=1)\n",
        "\n",
        "X = CNN_data.iloc[:, :-1]\n",
        "y = CNN_data.iloc[:, -1]\n",
        "\n",
        "# Split the data into training and testing sets\n",
        "X_train, X_test, y_train, y_test = train_test_split(X, y, test_size=0.2, random_state=42)\n",
        "\n",
        "# create a StandardScaler object\n",
        "the_scaler = StandardScaler()\n",
        "\n",
        "# fit the scaler on the training data and transform both training and testing data\n",
        "X_train_scaled = the_scaler.fit_transform(X_train)\n",
        "X_test_scaled = the_scaler.transform(X_test)\n",
        "\n",
        "# Apply PCA to reduce dimensionality\n",
        "#pca = PCA(n_components=100, random_state=42)\n",
        "#X_train_pca = pca.fit_transform(X_train_scaled)\n",
        "#X_test_pca = pca.transform(X_test_scaled)\n",
        "\n",
        "# Define the parameter grid for tuning n_estimators\n",
        "#param_grid = {'n_estimators': [50, 100, 150, 200, 250, 300]}\n",
        "\n",
        "# Use GridSearchCV to find the best value of n_estimators for Random Forest\n",
        "#rf = RandomForestClassifier()\n",
        "#grid_search = GridSearchCV(rf, param_grid, cv=5)\n",
        "#grid_search.fit(X_train_scaled, y_train)\n",
        "#best_n_estimators = grid_search.best_params_['n_estimators']\n",
        "\n",
        "# Fit the Random Forest model to the first 500 rows training data with the best value of n_estimators\n",
        "rf = RandomForestClassifier(n_estimators=150, random_state=42, max_depth=25)\n",
        "\n",
        "# Fit the classifier to the training data\n",
        "rf.fit(X_train_scaled, y_train)\n",
        "\n",
        "# Make predictions on the test data\n",
        "y_pred = rf.predict(X_test_scaled)\n",
        "\n",
        "# Calculate the accuracy score of the classifier\n",
        "cnn_rnd_accuracy = accuracy_score(y_test, y_pred)\n",
        "print(\"Accuracy score:\", cnn_rnd_accuracy)\n",
        "#print(\"Best value of n_estimators:\", best_n_estimators)"
      ],
      "metadata": {
        "colab": {
          "base_uri": "https://localhost:8080/"
        },
        "id": "pthXgKs_Jndb",
        "outputId": "d6869e7e-d877-49c0-ee90-32a0c8442af4"
      },
      "execution_count": null,
      "outputs": [
        {
          "output_type": "stream",
          "name": "stdout",
          "text": [
            "Accuracy score: 0.7533333333333333\n"
          ]
        }
      ]
    },
    {
      "cell_type": "code",
      "source": [
        "#NB Classifer CNN\n",
        "\n",
        "\n",
        "\n",
        "\n",
        "import pandas as pd\n",
        "import numpy as np\n",
        "from sklearn.model_selection import train_test_split\n",
        "from sklearn.preprocessing import StandardScaler\n",
        "from sklearn.naive_bayes import GaussianNB\n",
        "from sklearn.metrics import accuracy_score\n",
        "from sklearn.decomposition import PCA\n",
        "\n",
        "# Load the data\n",
        "filled_data2 = pd.read_csv('filled_data2.csv').drop(['confidence'], axis=1)\n",
        "\n",
        "CNN_data = filled_data2.drop(filled_data2.iloc[:, 2048:2304], axis=1)\n",
        "\n",
        "X = CNN_data.iloc[:, :-1]\n",
        "y = CNN_data.iloc[:, -1]\n",
        "\n",
        "# Split the data into training and testing sets\n",
        "X_train, X_test, y_train, y_test = train_test_split(X, y, test_size=0.2, random_state=42)\n",
        "\n",
        "# create a StandardScaler object\n",
        "the_scaler = StandardScaler()\n",
        "\n",
        "# fit the scaler on the training data and transform both training and testing data\n",
        "X_train_scaled = the_scaler.fit_transform(X_train)\n",
        "X_test_scaled = the_scaler.transform(X_test)\n",
        "\n",
        "# Apply PCA to reduce dimensionality\n",
        "#pca = PCA(n_components=100, random_state=42)\n",
        "#X_train_pca = pca.fit_transform(X_train_scaled)\n",
        "#X_test_pca = pca.transform(X_test_scaled)\n",
        "\n",
        "# define the hyperparameter space\n",
        "param_grid = {'priors': [None, [0.2, 0.8], [0.5, 0.5], [0.4, 0.6]], 'var_smoothing': [1e-9, 1e-7, 1e-5, 1e-5, 1e-3]}\n",
        "\n",
        "# create a Gaussian Naive Bayes classifier\n",
        "gnb = GaussianNB()\n",
        "\n",
        "grid_search = GridSearchCV(gnb, param_grid=param_grid, cv=5, scoring='accuracy')\n",
        "grid_search.fit(X_train_scaled, y_train)\n",
        "best_priors = grid_search.best_params_['priors']\n",
        "best_var_smoothing = grid_search.best_params_['var_smoothing']\n",
        "\n",
        "# train the classifier on the training data\n",
        "gnb = GaussianNB(priors=best_priors, var_smoothing=best_var_smoothing)\n",
        "gnb.fit(X_train_scaled, y_train)\n",
        "\n",
        "# predict the labels of the test data\n",
        "y_pred = gnb.predict(X_test_scaled)\n",
        "\n",
        "# calculate the accuracy of the classifier on the test data\n",
        "cnn_nb_accuracy = accuracy_score(y_test, y_pred)\n",
        "print(\"Accuracy:\", cnn_nb_accuracy)"
      ],
      "metadata": {
        "colab": {
          "base_uri": "https://localhost:8080/"
        },
        "id": "hYBNUUebQc9F",
        "outputId": "9ca825cd-9e0e-4a10-a895-90bb9367b639"
      },
      "execution_count": null,
      "outputs": [
        {
          "output_type": "stream",
          "name": "stdout",
          "text": [
            "Accuracy: 0.735\n"
          ]
        }
      ]
    },
    {
      "cell_type": "markdown",
      "source": [
        "TESTING GIST FEATURES ALONE"
      ],
      "metadata": {
        "id": "NEg7dr9aUZ0j"
      }
    },
    {
      "cell_type": "code",
      "source": [
        "#MLP GIST\n",
        "\n",
        "\n",
        "\n",
        "\n",
        "import pandas as pd\n",
        "from sklearn.model_selection import train_test_split\n",
        "from sklearn.preprocessing import StandardScaler\n",
        "from sklearn.neural_network import MLPClassifier\n",
        "\n",
        "# Load the data\n",
        "filled_data2 = pd.read_csv('filled_data2.csv').drop(['confidence'], axis=1)\n",
        "\n",
        "GIST_data = filled_data2.drop(filled_data2.iloc[:, :2048], axis=1)\n",
        "\n",
        "X = GIST_data.iloc[:, :-1]\n",
        "y = GIST_data.iloc[:, -1]\n",
        "\n",
        "# Split the data into training and testing sets\n",
        "X_train, X_test, y_train, y_test = train_test_split(X, y, test_size=0.25, random_state=42)\n",
        "\n",
        "# Scale the input features\n",
        "scaler = StandardScaler()\n",
        "X_train_scaled = scaler.fit_transform(X_train)\n",
        "X_test_scaled = scaler.transform(X_test)\n",
        "\n",
        "# Apply PCA to reduce dimensionality\n",
        "#pca = PCA(n_components=100, random_state=42)\n",
        "#X_train_pca = pca.fit_transform(X_train_scaled)\n",
        "#X_test_pca = pca.transform(X_test_scaled)\n",
        "\n",
        "# Train an MLP classifier\n",
        "mlp = MLPClassifier(hidden_layer_sizes=(100,), max_iter=1000, alpha=0.0001, solver='sgd', verbose=10, random_state=42, tol=0.0001, activation='relu', learning_rate='constant')\n",
        "mlp.fit(X_train_scaled, y_train)\n",
        "\n",
        "# predict the labels of the test data\n",
        "y_pred = mlp.predict(X_test_scaled)\n",
        "\n",
        "# Evaluate the classifier on the testing set\n",
        "gist_mlp_accuracy = accuracy_score(y_test, y_pred)\n",
        "print(f'Testing Accuracy: {gist_mlp_accuracy}')"
      ],
      "metadata": {
        "id": "5E1pv-wSUZEB"
      },
      "execution_count": null,
      "outputs": []
    },
    {
      "cell_type": "code",
      "source": [
        "#LOGREG GIST\n",
        "\n",
        "\n",
        "\n",
        "\n",
        "import pandas as pd\n",
        "import numpy as np\n",
        "from sklearn.model_selection import train_test_split, GridSearchCV\n",
        "from sklearn.preprocessing import StandardScaler\n",
        "from sklearn.linear_model import LogisticRegression\n",
        "from sklearn.ensemble import RandomForestClassifier\n",
        "from sklearn.metrics import accuracy_score\n",
        "from sklearn.decomposition import PCA\n",
        "\n",
        "\n",
        "# Load the data\n",
        "filled_data2 = pd.read_csv('filled_data2.csv').drop(['confidence'], axis=1)\n",
        "\n",
        "GIST_data = filled_data2.drop(filled_data2.iloc[:, :2048], axis=1)\n",
        "\n",
        "X = GIST_data.iloc[:, :-1]\n",
        "y = GIST_data.iloc[:, -1]\n",
        "\n",
        "# Split the data into training and testing sets\n",
        "X_train, X_test, y_train, y_test = train_test_split(X, y, test_size=0.2, random_state=42)\n",
        "\n",
        "# create a StandardScaler object\n",
        "the_scaler = StandardScaler()\n",
        "\n",
        "# fit the scaler on the training data and transform both training and testing data\n",
        "X_train_scaled = the_scaler.fit_transform(X_train)\n",
        "X_test_scaled = the_scaler.transform(X_test)\n",
        "\n",
        "# Apply PCA to reduce dimensionality\n",
        "pca = PCA(n_components=100, random_state=42)\n",
        "X_train_pca = pca.fit_transform(X_train_scaled)\n",
        "X_test_pca = pca.transform(X_test_scaled)\n",
        "\n",
        "# Define the parameter grid for tuning C\n",
        "param_grid = {'C': [0.0001, 0.001, 0.01, 0.1, 1, 10, 100]}\n",
        "\n",
        "# Use GridSearchCV to find the best value of C\n",
        "logreg = LogisticRegression()\n",
        "grid_search = GridSearchCV(logreg, param_grid, cv=5)\n",
        "grid_search.fit(X_train_pca, y_train)\n",
        "best_C = grid_search.best_params_['C']\n",
        "\n",
        "# Fit the logistic regression model to the training data with the best value of C\n",
        "logreg = LogisticRegression(max_iter=1000, C=best_C, solver='liblinear', penalty='l2')\n",
        "logreg.fit(X_train_pca, y_train)\n",
        "\n",
        "# Make predictions on the testing data\n",
        "y_pred = logreg.predict(X_test_pca)\n",
        "\n",
        "# Calculate the accuracy score of the model\n",
        "gist_logreg_accuracy = accuracy_score(y_test, y_pred)\n",
        "\n",
        "# Print the best value of C and the accuracy score\n",
        "print(\"Best value of C:\", best_C)\n",
        "print(\"Accuracy:\", gist_logreg_accuracy)"
      ],
      "metadata": {
        "colab": {
          "base_uri": "https://localhost:8080/"
        },
        "id": "ddxQeg0lWDv6",
        "outputId": "b330cb2f-3f49-487e-8241-3ffd760032a5"
      },
      "execution_count": null,
      "outputs": [
        {
          "output_type": "stream",
          "name": "stdout",
          "text": [
            "Best value of C: 0.001\n",
            "Accuracy: 0.6566666666666666\n"
          ]
        }
      ]
    },
    {
      "cell_type": "code",
      "source": [
        "#GIST SVM\n",
        "\n",
        "\n",
        "\n",
        "\n",
        "\n",
        "\n",
        "\n",
        "\n",
        "\n",
        "import pandas as pd\n",
        "import numpy as np\n",
        "from sklearn.model_selection import train_test_split, GridSearchCV\n",
        "from sklearn.preprocessing import StandardScaler\n",
        "from sklearn.svm import SVC\n",
        "from sklearn.metrics import accuracy_score\n",
        "from sklearn.decomposition import PCA\n",
        "\n",
        "\n",
        "# Load the data\n",
        "filled_data2 = pd.read_csv('filled_data2.csv').drop(['confidence'], axis=1)\n",
        "\n",
        "GIST_data = filled_data2.drop(filled_data2.iloc[:, :2048], axis=1)\n",
        "\n",
        "X = GIST_data.iloc[:, :-1]\n",
        "y = GIST_data.iloc[:, -1]\n",
        "\n",
        "# Split the data into training and testing sets\n",
        "X_train, X_test, y_train, y_test = train_test_split(X, y, test_size=0.25, random_state=42)\n",
        "\n",
        "# create a StandardScaler object\n",
        "the_scaler = StandardScaler()\n",
        "\n",
        "# fit the scaler on the training data and transform both training and testing data\n",
        "X_train_scaled = the_scaler.fit_transform(X_train)\n",
        "X_test_scaled = the_scaler.transform(X_test)\n",
        "\n",
        "# Apply PCA to reduce dimensionality\n",
        "#pca = PCA(n_components=100, random_state=42)\n",
        "#X_train_pca = pca.fit_transform(X_train_scaled)\n",
        "#X_test_pca = pca.transform(X_test_scaled)\n",
        "\n",
        "# Use the best hyperparameters to create a new SVM object\n",
        "best_svm = SVC(C=0.001, kernel='linear')\n",
        "best_svm.fit(X_train_scaled, y_train)\n",
        "\n",
        "# Predict on the test set\n",
        "y_pred = best_svm.predict(X_test_scaled)\n",
        "\n",
        "# Evaluate the accuracy\n",
        "gist_svm_accuracy = accuracy_score(y_test, y_pred)\n",
        "print(\"Accuracy: \", gist_svm_accuracy)"
      ],
      "metadata": {
        "colab": {
          "base_uri": "https://localhost:8080/"
        },
        "id": "znm0mRhGXHuJ",
        "outputId": "f81e7d46-5e07-4f94-8c8d-21f6be6462f2"
      },
      "execution_count": null,
      "outputs": [
        {
          "output_type": "stream",
          "name": "stdout",
          "text": [
            "Accuracy:  0.6533333333333333\n"
          ]
        }
      ]
    },
    {
      "cell_type": "code",
      "source": [
        "#GIST RANDOM FOREST\n",
        "\n",
        "\n",
        "\n",
        "\n",
        "\n",
        "import pandas as pd\n",
        "import numpy as np\n",
        "from sklearn.model_selection import train_test_split, GridSearchCV\n",
        "from sklearn.preprocessing import StandardScaler\n",
        "from sklearn.ensemble import RandomForestClassifier\n",
        "from sklearn.metrics import accuracy_score\n",
        "from sklearn.decomposition import PCA\n",
        "\n",
        "\n",
        "# Load the data\n",
        "filled_data2 = pd.read_csv('filled_data2.csv').drop(['confidence'], axis=1)\n",
        "\n",
        "GIST_data = filled_data2.drop(filled_data2.iloc[:, :2048], axis=1)\n",
        "\n",
        "X = GIST_data.iloc[:, :-1]\n",
        "y = GIST_data.iloc[:, -1]\n",
        "\n",
        "# Split the data into training and testing sets\n",
        "X_train, X_test, y_train, y_test = train_test_split(X, y, test_size=0.25, random_state=42)\n",
        "\n",
        "# create a StandardScaler object\n",
        "the_scaler = StandardScaler()\n",
        "\n",
        "# fit the scaler on the training data and transform both training and testing data\n",
        "X_train_scaled = the_scaler.fit_transform(X_train)\n",
        "X_test_scaled = the_scaler.transform(X_test)\n",
        "\n",
        "# Apply PCA to reduce dimensionality\n",
        "#pca = PCA(n_components=100, random_state=42)\n",
        "#X_train_pca = pca.fit_transform(X_train_scaled)\n",
        "#X_test_pca = pca.transform(X_test_scaled)\n",
        "\n",
        "# Define the parameter grid for tuning n_estimators\n",
        "#param_grid = {'n_estimators': [50, 100, 150, 200, 250, 300]}\n",
        "\n",
        "# Use GridSearchCV to find the best value of n_estimators for Random Forest\n",
        "#rf = RandomForestClassifier()\n",
        "#grid_search = GridSearchCV(rf, param_grid, cv=5)\n",
        "#grid_search.fit(X_train_scaled, y_train)\n",
        "#best_n_estimators = grid_search.best_params_['n_estimators']\n",
        "\n",
        "# Fit the Random Forest model to the first 500 rows training data with the best value of n_estimators\n",
        "rf = RandomForestClassifier(n_estimators=150, random_state=42, max_depth=25)\n",
        "\n",
        "# Fit the classifier to the training data\n",
        "rf.fit(X_train_scaled, y_train)\n",
        "\n",
        "# Make predictions on the test data\n",
        "y_pred = rf.predict(X_test_scaled)\n",
        "\n",
        "# Calculate the accuracy score of the classifier\n",
        "gist_rnd_accuracy = accuracy_score(y_test, y_pred)\n",
        "print(\"Accuracy score:\", gist_rnd_accuracy)\n",
        "#print(\"Best value of n_estimators:\", best_n_estimators)"
      ],
      "metadata": {
        "colab": {
          "base_uri": "https://localhost:8080/"
        },
        "id": "eLD_Mg3xX3f7",
        "outputId": "f875207a-9572-4017-853e-8bfd86fc33d7"
      },
      "execution_count": null,
      "outputs": [
        {
          "output_type": "stream",
          "name": "stdout",
          "text": [
            "Accuracy score: 0.6666666666666666\n"
          ]
        }
      ]
    },
    {
      "cell_type": "code",
      "source": [
        "#GIST NB\n",
        "\n",
        "\n",
        "\n",
        "\n",
        "\n",
        "\n",
        "# Load the data\n",
        "filled_data2 = pd.read_csv('filled_data2.csv').drop(['confidence'], axis=1)\n",
        "\n",
        "GIST_data = filled_data2.drop(filled_data2.iloc[:, :2048], axis=1)\n",
        "\n",
        "X = GIST_data.iloc[:, :-1]\n",
        "y = GIST_data.iloc[:, -1]\n",
        "\n",
        "# Split the data into training and testing sets\n",
        "X_train, X_test, y_train, y_test = train_test_split(X, y, test_size=0.25, random_state=42)\n",
        "\n",
        "# create a StandardScaler object\n",
        "the_scaler = StandardScaler()\n",
        "\n",
        "# fit the scaler on the training data and transform both training and testing data\n",
        "X_train_scaled = the_scaler.fit_transform(X_train)\n",
        "X_test_scaled = the_scaler.transform(X_test)\n",
        "\n",
        "# Apply PCA to reduce dimensionality\n",
        "#pca = PCA(n_components=100, random_state=42)\n",
        "#X_train_pca = pca.fit_transform(X_train_scaled)\n",
        "#X_test_pca = pca.transform(X_test_scaled)\n",
        "\n",
        "# define the hyperparameter space\n",
        "param_grid = {'priors': [None, [0.2, 0.8], [0.5, 0.5], [0.4, 0.6]], 'var_smoothing': [1e-9, 1e-7, 1e-5, 1e-5, 1e-3]}\n",
        "\n",
        "# create a Gaussian Naive Bayes classifier\n",
        "gnb = GaussianNB()\n",
        "\n",
        "grid_search = GridSearchCV(gnb, param_grid=param_grid, cv=5, scoring='accuracy')\n",
        "grid_search.fit(X_train_scaled, y_train)\n",
        "best_priors = grid_search.best_params_['priors']\n",
        "best_var_smoothing = grid_search.best_params_['var_smoothing']\n",
        "\n",
        "# train the classifier on the training data\n",
        "gnb = GaussianNB(priors=best_priors, var_smoothing=best_var_smoothing)\n",
        "gnb.fit(X_train_scaled, y_train)\n",
        "\n",
        "# predict the labels of the test data\n",
        "y_pred = gnb.predict(X_test_scaled)\n",
        "\n",
        "# calculate the accuracy of the classifier on the test data\n",
        "gist_nb_accuracy = accuracy_score(y_test, y_pred)\n",
        "print(\"Accuracy:\", gist_nb_accuracy)"
      ],
      "metadata": {
        "colab": {
          "base_uri": "https://localhost:8080/"
        },
        "id": "rd30_odOfuip",
        "outputId": "57eee841-e971-47a4-c70f-74e763cc1e03"
      },
      "execution_count": null,
      "outputs": [
        {
          "output_type": "stream",
          "name": "stdout",
          "text": [
            "Accuracy: 0.632\n"
          ]
        }
      ]
    },
    {
      "cell_type": "markdown",
      "source": [
        "TRAINING FINAL CLASSIFER"
      ],
      "metadata": {
        "id": "V7iA3mKpaY_R"
      }
    },
    {
      "cell_type": "code",
      "source": [
        "import pandas as pd\n",
        "import numpy as np\n",
        "from sklearn.preprocessing import StandardScaler\n",
        "from sklearn.ensemble import RandomForestClassifier\n",
        "\n",
        "# Load the data\n",
        "filled_data2 = pd.read_csv('filled_data2.csv').drop(['confidence'], axis=1)\n",
        "test_data = pd.read_csv('test_data_filled.csv')\n",
        "\n",
        "# Separate features and labels in filled_data2\n",
        "X = filled_data2.iloc[:, :-1]\n",
        "y = filled_data2.iloc[:, -1]\n",
        "\n",
        "# Split the data into training and testing sets\n",
        "X_train, X_test, y_train, y_test = train_test_split(X, y, test_size=0.25, random_state=42)\n",
        "\n",
        "# create a StandardScaler object\n",
        "the_scaler = StandardScaler()\n",
        "\n",
        "# fit the scaler on the training data and transform both training and testing data\n",
        "X_train_scaled = the_scaler.fit_transform(X_train)\n",
        "X_test_scaled = the_scaler.transform(X_test)\n",
        "\n",
        "# Fit the Random Forest model to the entire filled_data2 dataset with the best values of n_estimators and max_depth\n",
        "rf = RandomForestClassifier(n_estimators=150, random_state=42, max_depth=25)\n",
        "rf.fit(X_train_scaled, y_train)\n",
        "\n",
        "# Transform the test data using the scaler fitted on the training data\n",
        "test_data_scaled = the_scaler.transform(test_data)\n",
        "\n",
        "# Make predictions on the test data\n",
        "test_predictions = rf.predict(test_data_scaled)\n",
        "\n",
        "# Create a DataFrame with the test predictions\n",
        "predictions_df = pd.DataFrame(test_predictions, columns=['Prediction'])\n",
        "\n",
        "# Save the predictions to a CSV file\n",
        "predictions_df.to_csv('predictions.csv', index=False)"
      ],
      "metadata": {
        "id": "dR506A1KaebI"
      },
      "execution_count": null,
      "outputs": []
    },
    {
      "cell_type": "markdown",
      "source": [
        "CHARTS"
      ],
      "metadata": {
        "id": "yuNRwBYHZvlR"
      }
    },
    {
      "cell_type": "code",
      "source": [
        "#COMBINED DATA GRAPH\n",
        "\n",
        "\n",
        "\n",
        "\n",
        "import matplotlib.pyplot as plt\n",
        "\n",
        "# Bar chart data\n",
        "accuracy_scores = [comb_logreg_accuracy, comb_nb_accuracy, comb_rnd_accuracy, comb_svm_accuracy, comb_mlp_accuracy]\n",
        "x_labels = ['Log Reg', 'NB', 'Rand Forest', 'SVM', 'MLP']\n",
        "colours= ['red', 'green', 'blue', 'orange', 'purple']\n",
        "\n",
        "# Create the bar chart\n",
        "plt.bar(x_labels, accuracy_scores, color=colours)\n",
        "\n",
        "# Set y-axis limits\n",
        "plt.ylim(0.7, 0.8)\n",
        "\n",
        "# Add labels and title\n",
        "plt.xlabel('Accuracy Scores')\n",
        "plt.ylabel('Accuracy')\n",
        "plt.title('Figure 1: Combined Data Accuracy Scores Comparison')\n",
        "\n",
        "# Display the chart\n",
        "plt.show()"
      ],
      "metadata": {
        "colab": {
          "base_uri": "https://localhost:8080/",
          "height": 472
        },
        "id": "veWAncsbYb-C",
        "outputId": "d6f7363d-2559-48c0-bb19-0c1283966a64"
      },
      "execution_count": null,
      "outputs": [
        {
          "output_type": "display_data",
          "data": {
            "text/plain": [
              "<Figure size 640x480 with 1 Axes>"
            ],
            "image/png": "[encoded data removed]"
          },
          "metadata": {}
        }
      ]
    },
    {
      "cell_type": "code",
      "source": [
        "#CNN DATA GRAPH\n",
        "\n",
        "\n",
        "\n",
        "\n",
        "# Bar chart data\n",
        "accuracy_scores = [cnn_logreg_accuracy, cnn_nb_accuracy, cnn_rnd_accuracy, cnn_svm_accuracy, cnn_mlp_accuracy]\n",
        "x_labels = ['Log Reg', 'NB', 'Rand Forest', 'SVM', 'MLP']\n",
        "colours= ['red', 'green', 'blue', 'orange', 'purple']\n",
        "\n",
        "# Create the bar chart\n",
        "plt.bar(x_labels, accuracy_scores, color=colours)\n",
        "\n",
        "# Set y-axis limits\n",
        "plt.ylim(0.7, 0.8)\n",
        "\n",
        "# Add labels and title\n",
        "plt.xlabel('Accuracy Scores')\n",
        "plt.ylabel('Accuracy')\n",
        "plt.title('Figure 2: CNN Data Accuracy Scores Comparison')\n",
        "\n",
        "# Display the chart\n",
        "plt.show()"
      ],
      "metadata": {
        "colab": {
          "base_uri": "https://localhost:8080/",
          "height": 472
        },
        "id": "r41SnCZuc0ap",
        "outputId": "9a2b1c79-6c09-4b43-9aa6-99b53cc05ced"
      },
      "execution_count": null,
      "outputs": [
        {
          "output_type": "display_data",
          "data": {
            "text/plain": [
              "<Figure size 640x480 with 1 Axes>"
            ],
            "image/png": "[encoded data removed]"
          },
          "metadata": {}
        }
      ]
    },
    {
      "cell_type": "code",
      "source": [
        "# Bar chart data\n",
        "accuracy_scores = [gist_logreg_accuracy, gist_nb_accuracy, gist_rnd_accuracy, gist_svm_accuracy, gist_mlp_accuracy]\n",
        "x_labels = ['Log Reg', 'NB', 'Rand Forest', 'SVM', 'MLP']\n",
        "colours= ['red', 'green', 'blue', 'orange', 'purple']\n",
        "\n",
        "# Create the bar chart\n",
        "plt.bar(x_labels, accuracy_scores, color=colours)\n",
        "\n",
        "# Set y-axis limits\n",
        "plt.ylim(0.6, 0.7)\n",
        "\n",
        "# Add labels and title\n",
        "plt.xlabel('Accuracy Scores')\n",
        "plt.ylabel('Accuracy')\n",
        "plt.title('Figure 3: GIST Data Accuracy Scores Comparison')\n",
        "\n",
        "# Display the chart\n",
        "plt.show()"
      ],
      "metadata": {
        "colab": {
          "base_uri": "https://localhost:8080/",
          "height": 472
        },
        "id": "-3BagKWogDL3",
        "outputId": "1675427a-c30e-4e6e-bd4c-5d7915f94523"
      },
      "execution_count": null,
      "outputs": [
        {
          "output_type": "display_data",
          "data": {
            "text/plain": [
              "<Figure size 640x480 with 1 Axes>"
            ],
            "image/png": "[encoded data removed]"
          },
          "metadata": {}
        }
      ]
    }
  ]
}